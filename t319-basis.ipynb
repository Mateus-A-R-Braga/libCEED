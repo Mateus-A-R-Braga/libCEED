{
 "cells": [
  {
   "cell_type": "code",
   "execution_count": 1,
   "metadata": {},
   "outputs": [],
   "source": [
    "using Plots\n",
    "using Jacobi\n",
    "using Test\n",
    "using LinearAlgebra"
   ]
  },
  {
   "cell_type": "code",
   "execution_count": 2,
   "metadata": {},
   "outputs": [
    {
     "data": {
      "text/plain": [
       "Eval (generic function with 1 method)"
      ]
     },
     "execution_count": 2,
     "metadata": {},
     "output_type": "execute_result"
    }
   ],
   "source": [
    "function Eval(dim, xx)\n",
    "    \n",
    "    if dim == 1\n",
    "        x = xx[1]\n",
    "        result = 1 + x + x^2\n",
    "    end\n",
    "    \n",
    "    if dim == 2\n",
    "        x = xx[1]\n",
    "        y = xx[2]\n",
    "        result = 1 + x + x^2 + y + y^2\n",
    "    end\n",
    "    \n",
    "    if dim == 3\n",
    "        x = xx[1]\n",
    "        y = xx[2]\n",
    "        z = xx[3]\n",
    "        result = 1 + x + x^2 + y + y^2 + z + z^2\n",
    "    end\n",
    "    \n",
    "    return result\n",
    "end"
   ]
  },
  {
   "cell_type": "code",
   "execution_count": 3,
   "metadata": {},
   "outputs": [
    {
     "data": {
      "text/plain": [
       "Eval_grad (generic function with 1 method)"
      ]
     },
     "execution_count": 3,
     "metadata": {},
     "output_type": "execute_result"
    }
   ],
   "source": [
    "function Eval_grad(dim, xx)\n",
    "    \n",
    "    if dim == 1\n",
    "        x = xx[1]\n",
    "        result = 1 + 2*x\n",
    "    end\n",
    "    \n",
    "    if dim == 2\n",
    "        x = xx[1]\n",
    "        y = xx[2]\n",
    "        result = [1 + 2*x;1 + 2*y] \n",
    "    end\n",
    "    \n",
    "    if dim == 3\n",
    "        x = xx[1]\n",
    "        y = xx[2]\n",
    "        z = xx[3]\n",
    "        result = [1 + 2*x;1 + 2*y;1 + 2*z] \n",
    "    end\n",
    "    return result\n",
    "end"
   ]
  },
  {
   "cell_type": "code",
   "execution_count": 4,
   "metadata": {},
   "outputs": [
    {
     "data": {
      "text/plain": [
       "FEcreateBasis (generic function with 1 method)"
      ]
     },
     "execution_count": 4,
     "metadata": {},
     "output_type": "execute_result"
    }
   ],
   "source": [
    "function FEBasisEval(P, Q, nodes, qref1d)\n",
    "\"\"\"\n",
    " FEBASISEVAL populates B1d and D1d of order P at quadrature points Q.\n",
    "  input: \n",
    "        P: degree of Lagrange polynomial or shape functions\n",
    "        Q: Number of quadrature points\n",
    " output:\n",
    "        B1d: see above for description\n",
    "        D1d: see above for description\n",
    "\"\"\"\n",
    "    B1d = zeros(1,P*Q);\n",
    "    D1d = zeros(1,P*Q);\n",
    "\n",
    "    for i = 1:Q\n",
    "        c1 = 1.0;\n",
    "        c3 = nodes[1] - qref1d[i];\n",
    "        B1d[(i-1)*P+1] = 1.0;\n",
    "        for j = 2:P\n",
    "            c2 = 1.0;\n",
    "            c4 = c3;\n",
    "            c3 = nodes[j] - qref1d[i];\n",
    "                for k = 1:j-1\n",
    "                    dx = nodes[j] - nodes[k];\n",
    "                    c2 = c2*dx;\n",
    "                    if k == j-1\n",
    "                        D1d[(i-1)*P + j] = c1*(B1d[(i-1)*P + k] - c4*D1d[(i-1)*P + k]) / c2;\n",
    "                        B1d[(i-1)*P + j] = - c1*c4*B1d[(i-1)*P + k] / c2;\n",
    "                    end\n",
    "                    D1d[(i-1)*P + k] = (c3*D1d[(i-1)*P + k] - B1d[(i-1)*P + k]) / dx;\n",
    "                    B1d[(i-1)*P + k] = c3*B1d[(i-1)*P + k] / dx;\n",
    "                end\n",
    "            c1 = c2;\n",
    "        end\n",
    "    end\n",
    "    return B1d, D1d\n",
    "\n",
    "end\n",
    "\n",
    "function FEcreateBasis(P,Q, Qmode)\n",
    "    \"\"\"\n",
    " FECREATEBASIS creates and evaluates basis/shape function and their derivative \n",
    " at quadrature points (Q) for the polynomial order P. \n",
    "  input: \n",
    "       P: polynomial degree + 1\n",
    "       Q: Number of quadrature points\n",
    "   Qmode: GAUSS or GLL quadrature points\n",
    " output:\n",
    "     B1d: basis/shape function evaluated at quadrature points\n",
    "     D1d: derivative of basis/shape function evaluated at quadrature points\n",
    "       W: quadrature weights\n",
    "  qref1d: quadrature points computed by GAUSS or LGL\n",
    "    \"\"\"\n",
    "# get Legendre-Gauss-Lobatto nodes (or quadrature points)\n",
    "      nodes = zglj(P, 0.0, 0.0); \n",
    "      if Qmode==\"GAUSS\"\n",
    "         # populate a 1D array with GAUSS quadrature points and weights\n",
    "        # 1D Gauss\n",
    "        qref1d = zgj(Q, 0.0, 0.0)\n",
    "        W = wgj(qref1d, 0.0, 0.0)\n",
    "         # populate a 1D array for B1d and D1d described above in outputs\n",
    "         B1d, D1d = FEBasisEval(P, Q, nodes, qref1d);\n",
    "      elseif Qmode==\"GLL\"\n",
    "         # populate a 1D array with GLL quadrature points and weights\n",
    "         qref1d = zglj(Q, 0.0, 0.0)\n",
    "         W = wglj(qref1d, 0.0, 0.0)  \n",
    "         # populate a 1D array for B1d and D1d described above in outputs  \n",
    "         B1d, D1d = FEBasisEval(P, Q, nodes, qref1d);\n",
    "      else\n",
    "         error(\"Qmode error! Choose GAUSS or GLL Quadrature points!\");\n",
    "      end\n",
    "    return B1d, D1d, W, qref1d\n",
    "\n",
    "end"
   ]
  },
  {
   "cell_type": "code",
   "execution_count": 16,
   "metadata": {},
   "outputs": [
    {
     "data": {
      "text/plain": [
       "9"
      ]
     },
     "execution_count": 16,
     "metadata": {},
     "output_type": "execute_result"
    }
   ],
   "source": [
    "dim = 2\n",
    "P = 2\n",
    "Q = 3\n",
    "Q_dim = Q^dim"
   ]
  },
  {
   "cell_type": "code",
   "execution_count": 17,
   "metadata": {},
   "outputs": [],
   "source": [
    "X_dim = 2^dim\n",
    "X = zeros(X_dim*dim)\n",
    "for d=1:dim\n",
    "    for i=1:X_dim\n",
    "        X[(d-1)*X_dim + i] = mod(i-1,2^(dim - (d-1))) ÷ 2^(dim - (d-1)-1) != 0 ? 1 : -1;\n",
    "    end\n",
    "end"
   ]
  },
  {
   "cell_type": "code",
   "execution_count": 18,
   "metadata": {},
   "outputs": [],
   "source": [
    "B1d, D1d, W, qref1d = FEcreateBasis(2, Q, \"GLL\")\n",
    "B_l = reshape(B1d,2,Q)'\n",
    "D_l = reshape(D1d,2,Q)';\n",
    "\n",
    "# dim-D basis, P = 2 (in 1D)\n",
    "if dim == 1\n",
    "    B_x = B_l\n",
    "elseif dim == 2\n",
    "    B_x = kron(B_l,B_l)\n",
    "else\n",
    "    B_x = kron(B_l,B_l, B_l)\n",
    "end\n",
    "# since num_comp = dim in the test we need another kron \n",
    "# CeedBasisCreateTensorH1Lagrange(ceed, dim, dim, 2, Q, CEED_GAUSS_LOBATTO,&basis_x_lobatto);\n",
    "B_x = kron(I(dim), B_x);"
   ]
  },
  {
   "cell_type": "code",
   "execution_count": 19,
   "metadata": {},
   "outputs": [],
   "source": [
    "# CeedBasisApply(basis_x_lobatto, 1, CEED_NOTRANSPOSE, CEED_EVAL_INTERP, X, X_q);\n",
    "X_q = B_x*X;"
   ]
  },
  {
   "cell_type": "code",
   "execution_count": 20,
   "metadata": {},
   "outputs": [],
   "source": [
    "Q_dim = Q^dim\n",
    "xx = zeros(dim)\n",
    "U = zeros(Q_dim)\n",
    "for i = 1:Q_dim\n",
    "    for d = 1:dim\n",
    "        xx[d] = X_q[(d-1)*Q_dim + i]\n",
    "    end\n",
    "    U[i] = Eval(dim, xx)\n",
    "end"
   ]
  },
  {
   "cell_type": "code",
   "execution_count": 31,
   "metadata": {},
   "outputs": [
    {
     "data": {
      "text/plain": [
       "18-element Vector{Float64}:\n",
       " -0.5491933384829667\n",
       " -0.5491933384829668\n",
       " -0.5491933384829664\n",
       "  0.9999999999999998\n",
       "  1.0\n",
       "  1.0000000000000004\n",
       "  2.549193338482967\n",
       "  2.549193338482967\n",
       "  2.549193338482967\n",
       " -0.5491933384829669\n",
       "  1.0\n",
       "  2.549193338482967\n",
       " -0.5491933384829668\n",
       "  1.0\n",
       "  2.549193338482967\n",
       " -0.5491933384829667\n",
       "  1.0000000000000002\n",
       "  2.549193338482967"
      ]
     },
     "execution_count": 31,
     "metadata": {},
     "output_type": "execute_result"
    }
   ],
   "source": [
    "B1d, D1d, W, qref1d = FEcreateBasis(Q, Q, \"GAUSS\")\n",
    "B = reshape(B1d,Q,Q)'\n",
    "D = reshape(D1d,Q,Q)'\n",
    "# dim-D basis , num_comp = 1\n",
    "# CeedBasisCreateTensorH1Lagrange(ceed, dim, 1, P, Q, CEED_GAUSS,&basis_u_gauss);\n",
    "if dim == 1\n",
    "    G_u = D\n",
    "    G_u = kron([1], G_u)\n",
    "elseif dim == 2\n",
    "    G_ux = kron(D,B)\n",
    "    G_ux = kron([1, 0], G_ux)\n",
    "    G_uy = kron(B,D)\n",
    "    G_uy = kron([0, 1], G_uy)\n",
    "\n",
    "    G_u = G_ux + G_uy\n",
    "else\n",
    "    G_ux = kron(D,B,B)  # Jed's paper\n",
    "    #G_ux = kron(B,B,D) # libCEED\n",
    "    G_ux = kron([1, 0, 0], G_ux)\n",
    "    \n",
    "    G_uy = kron(B,D,B)\n",
    "    G_uy = kron([0, 1, 0], G_uy)\n",
    "    \n",
    "    G_uz = kron(B,B,D)  # Jed's paper\n",
    "    #G_uz = kron(D,B,B) # libCEED\n",
    "    G_uz = kron([0, 0, 1], G_uz)\n",
    "    \n",
    "    G_u = G_ux + G_uy + G_uz\n",
    "end\n",
    "# CeedBasisApply(basis_u_gauss, 1, CEED_NOTRANSPOSE, CEED_EVAL_GRAD, U, U_q);\n",
    "U_q  = G_u * U"
   ]
  },
  {
   "cell_type": "code",
   "execution_count": 32,
   "metadata": {},
   "outputs": [],
   "source": [
    "B1d, D1d, W, qref1d = FEcreateBasis(2, Q, \"GAUSS\")\n",
    "B_l = reshape(B1d,2,Q)'\n",
    "D_l = reshape(D1d,2,Q)';\n",
    "\n",
    "# dim-D basis, P = 2 (in 1D)\n",
    "if dim == 1\n",
    "    B_x = B_l\n",
    "elseif dim == 2\n",
    "    B_x = kron(B_l,B_l)\n",
    "else\n",
    "    B_x = kron(B_l,B_l, B_l)\n",
    "end\n",
    "# since num_comp = dim in the test we need another kron \n",
    "# CeedBasisCreateTensorH1Lagrange(ceed, dim, dim, 2, Q, CEED_GAUSS,&basis_x_gauss);\n",
    "B_x = kron(I(dim), B_x);\n",
    "# CeedBasisApply(basis_x_gauss, 1, CEED_NOTRANSPOSE, CEED_EVAL_INTERP, X, X_q);\n",
    "X_q = B_x * X;"
   ]
  },
  {
   "cell_type": "code",
   "execution_count": 33,
   "metadata": {},
   "outputs": [],
   "source": [
    "xx = zeros(dim)\n",
    "U_e = zeros(dim*Q_dim)\n",
    "for i = 1:Q_dim\n",
    "    for d = 1:dim\n",
    "        xx[d] = X_q[(d-1)*Q_dim + i]\n",
    "    end\n",
    "    if dim == 1\n",
    "        grad = Eval_grad(dim, xx)\n",
    "        U_e[i] = grad\n",
    "    elseif dim ==2\n",
    "        grad = Eval_grad(dim, xx)\n",
    "        U_e[i + 0*Q_dim]  =grad[1]\n",
    "        U_e[i + 1*Q_dim]  =grad[2]\n",
    "    else\n",
    "        grad = Eval_grad(dim, xx)\n",
    "        U_e[i + 0*Q_dim]  =grad[1]\n",
    "        U_e[i + 1*Q_dim]  =grad[2]\n",
    "        U_e[i + 2*Q_dim]  =grad[3]\n",
    "    end\n",
    "end"
   ]
  },
  {
   "cell_type": "code",
   "execution_count": 34,
   "metadata": {},
   "outputs": [
    {
     "data": {
      "text/plain": [
       "\u001b[32m\u001b[1mTest Passed\u001b[22m\u001b[39m"
      ]
     },
     "execution_count": 34,
     "metadata": {},
     "output_type": "execute_result"
    }
   ],
   "source": [
    "@test U_e ≈ U_q atol=1E-6"
   ]
  },
  {
   "cell_type": "code",
   "execution_count": null,
   "metadata": {},
   "outputs": [],
   "source": []
  }
 ],
 "metadata": {
  "kernelspec": {
   "display_name": "Julia 1.6.0",
   "language": "julia",
   "name": "julia-1.6"
  },
  "language_info": {
   "file_extension": ".jl",
   "mimetype": "application/julia",
   "name": "julia",
   "version": "1.6.0"
  }
 },
 "nbformat": 4,
 "nbformat_minor": 4
}
